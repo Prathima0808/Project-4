{
 "cells": [
  {
   "attachments": {},
   "cell_type": "markdown",
   "metadata": {},
   "source": [
    "### Neural Collaborative Filtering (NCF)\n",
    "The goal is to create a NCF deep learning model that will provide the user movie recommendations based off of the users reviews as well as similar movies to create detailed movie recommendations. The goal of this model is to build a collaborative filtering model using deep neural learning to offer a top 10 list of movie recommendations from a selected user."
   ]
  },
  {
   "cell_type": "code",
   "execution_count": 1,
   "metadata": {},
   "outputs": [],
   "source": [
    "# Import dependencies\n",
    "import matplotlib.pyplot as plt\n",
    "import pandas as pd\n",
    "from sqlalchemy import create_engine\n",
    "from sqlalchemy import inspect\n",
    "import config\n",
    "import numpy as np\n",
    "from sklearn.model_selection import train_test_split\n",
    "import tensorflow as tf\n",
    "from tensorflow import keras\n",
    "from tensorflow.keras import layers\n",
    "import matplotlib.pyplot as plt\n",
    "from tensorflow.keras.models import Sequential\n",
    "from tensorflow.keras.layers import Dense"
   ]
  },
  {
   "cell_type": "code",
   "execution_count": 2,
   "metadata": {},
   "outputs": [],
   "source": [
    "#Log into the SQL database to retrieve the data\n",
    "protocol = 'postgresql'\n",
    "username = config.Username\n",
    "password = config.Password\n",
    "host = 'localhost'\n",
    "port = 5432\n",
    "database_name = 'movies_db'\n",
    "rds_connection_string = f'{protocol}://{username}:{password}@{host}:{port}/{database_name}'\n",
    "engine = create_engine(rds_connection_string)\n",
    "insp = inspect(engine)"
   ]
  },
  {
   "cell_type": "code",
   "execution_count": 3,
   "metadata": {},
   "outputs": [],
   "source": [
    "#Perform an SQL search query to select all of the data within the data set and create a pandas data frame from it\n",
    "sql_join = r\"\"\"SELECT movies.movie_id, movies.title, movies.genres, ratings.user_id, ratings.rating, ratings.timestamps\n",
    "FROM movies\n",
    "INNER JOIN ratings\n",
    "ON movies.movie_id=ratings.movie_id;\"\"\"\n",
    "joined_movies_df=pd.read_sql_query(sql_join, con=engine)"
   ]
  },
  {
   "cell_type": "code",
   "execution_count": 4,
   "metadata": {},
   "outputs": [
    {
     "data": {
      "text/html": [
       "<div>\n",
       "<style scoped>\n",
       "    .dataframe tbody tr th:only-of-type {\n",
       "        vertical-align: middle;\n",
       "    }\n",
       "\n",
       "    .dataframe tbody tr th {\n",
       "        vertical-align: top;\n",
       "    }\n",
       "\n",
       "    .dataframe thead th {\n",
       "        text-align: right;\n",
       "    }\n",
       "</style>\n",
       "<table border=\"1\" class=\"dataframe\">\n",
       "  <thead>\n",
       "    <tr style=\"text-align: right;\">\n",
       "      <th></th>\n",
       "      <th>movie_id</th>\n",
       "      <th>title</th>\n",
       "      <th>genres</th>\n",
       "      <th>user_id</th>\n",
       "      <th>rating</th>\n",
       "      <th>timestamps</th>\n",
       "    </tr>\n",
       "  </thead>\n",
       "  <tbody>\n",
       "    <tr>\n",
       "      <th>0</th>\n",
       "      <td>1</td>\n",
       "      <td>Toy Story (1995)</td>\n",
       "      <td>Adventure|Animation|Children|Comedy|Fantasy</td>\n",
       "      <td>1</td>\n",
       "      <td>4.0</td>\n",
       "      <td>964982703</td>\n",
       "    </tr>\n",
       "    <tr>\n",
       "      <th>1</th>\n",
       "      <td>3</td>\n",
       "      <td>Grumpier Old Men (1995)</td>\n",
       "      <td>Comedy|Romance</td>\n",
       "      <td>1</td>\n",
       "      <td>4.0</td>\n",
       "      <td>964981247</td>\n",
       "    </tr>\n",
       "    <tr>\n",
       "      <th>2</th>\n",
       "      <td>6</td>\n",
       "      <td>Heat (1995)</td>\n",
       "      <td>Action|Crime|Thriller</td>\n",
       "      <td>1</td>\n",
       "      <td>4.0</td>\n",
       "      <td>964982224</td>\n",
       "    </tr>\n",
       "    <tr>\n",
       "      <th>3</th>\n",
       "      <td>47</td>\n",
       "      <td>Seven (a.k.a. Se7en) (1995)</td>\n",
       "      <td>Mystery|Thriller</td>\n",
       "      <td>1</td>\n",
       "      <td>5.0</td>\n",
       "      <td>964983815</td>\n",
       "    </tr>\n",
       "    <tr>\n",
       "      <th>4</th>\n",
       "      <td>50</td>\n",
       "      <td>Usual Suspects, The (1995)</td>\n",
       "      <td>Crime|Mystery|Thriller</td>\n",
       "      <td>1</td>\n",
       "      <td>5.0</td>\n",
       "      <td>964982931</td>\n",
       "    </tr>\n",
       "    <tr>\n",
       "      <th>...</th>\n",
       "      <td>...</td>\n",
       "      <td>...</td>\n",
       "      <td>...</td>\n",
       "      <td>...</td>\n",
       "      <td>...</td>\n",
       "      <td>...</td>\n",
       "    </tr>\n",
       "    <tr>\n",
       "      <th>100831</th>\n",
       "      <td>166534</td>\n",
       "      <td>Split (2017)</td>\n",
       "      <td>Drama|Horror|Thriller</td>\n",
       "      <td>610</td>\n",
       "      <td>4.0</td>\n",
       "      <td>1493848402</td>\n",
       "    </tr>\n",
       "    <tr>\n",
       "      <th>100832</th>\n",
       "      <td>168248</td>\n",
       "      <td>John Wick: Chapter Two (2017)</td>\n",
       "      <td>Action|Crime|Thriller</td>\n",
       "      <td>610</td>\n",
       "      <td>5.0</td>\n",
       "      <td>1493850091</td>\n",
       "    </tr>\n",
       "    <tr>\n",
       "      <th>100833</th>\n",
       "      <td>168250</td>\n",
       "      <td>Get Out (2017)</td>\n",
       "      <td>Horror</td>\n",
       "      <td>610</td>\n",
       "      <td>5.0</td>\n",
       "      <td>1494273047</td>\n",
       "    </tr>\n",
       "    <tr>\n",
       "      <th>100834</th>\n",
       "      <td>168252</td>\n",
       "      <td>Logan (2017)</td>\n",
       "      <td>Action|Sci-Fi</td>\n",
       "      <td>610</td>\n",
       "      <td>5.0</td>\n",
       "      <td>1493846352</td>\n",
       "    </tr>\n",
       "    <tr>\n",
       "      <th>100835</th>\n",
       "      <td>170875</td>\n",
       "      <td>The Fate of the Furious (2017)</td>\n",
       "      <td>Action|Crime|Drama|Thriller</td>\n",
       "      <td>610</td>\n",
       "      <td>3.0</td>\n",
       "      <td>1493846415</td>\n",
       "    </tr>\n",
       "  </tbody>\n",
       "</table>\n",
       "<p>100836 rows × 6 columns</p>\n",
       "</div>"
      ],
      "text/plain": [
       "        movie_id                           title  \\\n",
       "0              1                Toy Story (1995)   \n",
       "1              3         Grumpier Old Men (1995)   \n",
       "2              6                     Heat (1995)   \n",
       "3             47     Seven (a.k.a. Se7en) (1995)   \n",
       "4             50      Usual Suspects, The (1995)   \n",
       "...          ...                             ...   \n",
       "100831    166534                    Split (2017)   \n",
       "100832    168248   John Wick: Chapter Two (2017)   \n",
       "100833    168250                  Get Out (2017)   \n",
       "100834    168252                    Logan (2017)   \n",
       "100835    170875  The Fate of the Furious (2017)   \n",
       "\n",
       "                                             genres  user_id  rating  \\\n",
       "0       Adventure|Animation|Children|Comedy|Fantasy        1     4.0   \n",
       "1                                    Comedy|Romance        1     4.0   \n",
       "2                             Action|Crime|Thriller        1     4.0   \n",
       "3                                  Mystery|Thriller        1     5.0   \n",
       "4                            Crime|Mystery|Thriller        1     5.0   \n",
       "...                                             ...      ...     ...   \n",
       "100831                        Drama|Horror|Thriller      610     4.0   \n",
       "100832                        Action|Crime|Thriller      610     5.0   \n",
       "100833                                       Horror      610     5.0   \n",
       "100834                                Action|Sci-Fi      610     5.0   \n",
       "100835                  Action|Crime|Drama|Thriller      610     3.0   \n",
       "\n",
       "        timestamps  \n",
       "0        964982703  \n",
       "1        964981247  \n",
       "2        964982224  \n",
       "3        964983815  \n",
       "4        964982931  \n",
       "...            ...  \n",
       "100831  1493848402  \n",
       "100832  1493850091  \n",
       "100833  1494273047  \n",
       "100834  1493846352  \n",
       "100835  1493846415  \n",
       "\n",
       "[100836 rows x 6 columns]"
      ]
     },
     "execution_count": 4,
     "metadata": {},
     "output_type": "execute_result"
    }
   ],
   "source": [
    "#Now we have ported in the all the data from our SQL lets visualise it\n",
    "joined_movies_df"
   ]
  },
  {
   "cell_type": "code",
   "execution_count": 5,
   "metadata": {},
   "outputs": [
    {
     "data": {
      "text/html": [
       "<div>\n",
       "<style scoped>\n",
       "    .dataframe tbody tr th:only-of-type {\n",
       "        vertical-align: middle;\n",
       "    }\n",
       "\n",
       "    .dataframe tbody tr th {\n",
       "        vertical-align: top;\n",
       "    }\n",
       "\n",
       "    .dataframe thead th {\n",
       "        text-align: right;\n",
       "    }\n",
       "</style>\n",
       "<table border=\"1\" class=\"dataframe\">\n",
       "  <thead>\n",
       "    <tr style=\"text-align: right;\">\n",
       "      <th></th>\n",
       "      <th>user_id</th>\n",
       "      <th>movie_id</th>\n",
       "      <th>rating</th>\n",
       "      <th>timestamps</th>\n",
       "    </tr>\n",
       "  </thead>\n",
       "  <tbody>\n",
       "    <tr>\n",
       "      <th>0</th>\n",
       "      <td>1</td>\n",
       "      <td>1</td>\n",
       "      <td>4.0</td>\n",
       "      <td>964982703</td>\n",
       "    </tr>\n",
       "    <tr>\n",
       "      <th>1</th>\n",
       "      <td>1</td>\n",
       "      <td>3</td>\n",
       "      <td>4.0</td>\n",
       "      <td>964981247</td>\n",
       "    </tr>\n",
       "    <tr>\n",
       "      <th>2</th>\n",
       "      <td>1</td>\n",
       "      <td>6</td>\n",
       "      <td>4.0</td>\n",
       "      <td>964982224</td>\n",
       "    </tr>\n",
       "    <tr>\n",
       "      <th>3</th>\n",
       "      <td>1</td>\n",
       "      <td>47</td>\n",
       "      <td>5.0</td>\n",
       "      <td>964983815</td>\n",
       "    </tr>\n",
       "    <tr>\n",
       "      <th>4</th>\n",
       "      <td>1</td>\n",
       "      <td>50</td>\n",
       "      <td>5.0</td>\n",
       "      <td>964982931</td>\n",
       "    </tr>\n",
       "    <tr>\n",
       "      <th>...</th>\n",
       "      <td>...</td>\n",
       "      <td>...</td>\n",
       "      <td>...</td>\n",
       "      <td>...</td>\n",
       "    </tr>\n",
       "    <tr>\n",
       "      <th>100831</th>\n",
       "      <td>610</td>\n",
       "      <td>166534</td>\n",
       "      <td>4.0</td>\n",
       "      <td>1493848402</td>\n",
       "    </tr>\n",
       "    <tr>\n",
       "      <th>100832</th>\n",
       "      <td>610</td>\n",
       "      <td>168248</td>\n",
       "      <td>5.0</td>\n",
       "      <td>1493850091</td>\n",
       "    </tr>\n",
       "    <tr>\n",
       "      <th>100833</th>\n",
       "      <td>610</td>\n",
       "      <td>168250</td>\n",
       "      <td>5.0</td>\n",
       "      <td>1494273047</td>\n",
       "    </tr>\n",
       "    <tr>\n",
       "      <th>100834</th>\n",
       "      <td>610</td>\n",
       "      <td>168252</td>\n",
       "      <td>5.0</td>\n",
       "      <td>1493846352</td>\n",
       "    </tr>\n",
       "    <tr>\n",
       "      <th>100835</th>\n",
       "      <td>610</td>\n",
       "      <td>170875</td>\n",
       "      <td>3.0</td>\n",
       "      <td>1493846415</td>\n",
       "    </tr>\n",
       "  </tbody>\n",
       "</table>\n",
       "<p>100836 rows × 4 columns</p>\n",
       "</div>"
      ],
      "text/plain": [
       "        user_id  movie_id  rating  timestamps\n",
       "0             1         1     4.0   964982703\n",
       "1             1         3     4.0   964981247\n",
       "2             1         6     4.0   964982224\n",
       "3             1        47     5.0   964983815\n",
       "4             1        50     5.0   964982931\n",
       "...         ...       ...     ...         ...\n",
       "100831      610    166534     4.0  1493848402\n",
       "100832      610    168248     5.0  1493850091\n",
       "100833      610    168250     5.0  1494273047\n",
       "100834      610    168252     5.0  1493846352\n",
       "100835      610    170875     3.0  1493846415\n",
       "\n",
       "[100836 rows x 4 columns]"
      ]
     },
     "execution_count": 5,
     "metadata": {},
     "output_type": "execute_result"
    }
   ],
   "source": [
    "#Not all of that data is needed yet, but will be later in the process. We only need the users feedback data\n",
    "user_df = joined_movies_df[['user_id','movie_id','rating', 'timestamps']]\n",
    "user_df"
   ]
  },
  {
   "attachments": {},
   "cell_type": "markdown",
   "metadata": {},
   "source": [
    "### Data Processing\n",
    "The data that has now been imported needs to be processed. The 'user_id's and 'movie_id's are being enumerated as the machine learning will be more effective when the data is 0 indexed."
   ]
  },
  {
   "cell_type": "code",
   "execution_count": 8,
   "metadata": {},
   "outputs": [
    {
     "name": "stderr",
     "output_type": "stream",
     "text": [
      "C:\\Users\\pereg\\AppData\\Local\\Temp\\ipykernel_11488\\2628197176.py:7: SettingWithCopyWarning: \n",
      "A value is trying to be set on a copy of a slice from a DataFrame.\n",
      "Try using .loc[row_indexer,col_indexer] = value instead\n",
      "\n",
      "See the caveats in the documentation: https://pandas.pydata.org/pandas-docs/stable/user_guide/indexing.html#returning-a-view-versus-a-copy\n",
      "  user_df[\"user_enumerated\"] = user_df[\"user_id\"].map(User_list_enumerated)\n"
     ]
    },
    {
     "data": {
      "text/plain": [
       "0           0\n",
       "1           0\n",
       "2           0\n",
       "3           0\n",
       "4           0\n",
       "         ... \n",
       "100831    609\n",
       "100832    609\n",
       "100833    609\n",
       "100834    609\n",
       "100835    609\n",
       "Name: user_enumerated, Length: 100836, dtype: int64"
      ]
     },
     "execution_count": 8,
     "metadata": {},
     "output_type": "execute_result"
    }
   ],
   "source": [
    "#We are going to create a unique list of every user within our dataset\n",
    "User_list = user_df[\"user_id\"].unique().tolist()\n",
    "#Next we are going to enumerate each user within the list, this will show their user id and the order in which it appears within the data set.\n",
    "#This is important as we may have missing users, it is also data that is used to construct the matrix later on to give recommendations.\n",
    "User_list_enumerated = {x: i for i, x in enumerate(User_list)}\n",
    "#Now we map the enumerated data to the user_id's and add it to the user_enumerated column\n",
    "user_df[\"user_enumerated\"] = user_df[\"user_id\"].map(User_list_enumerated)\n",
    "user_df[\"user_enumerated\"]"
   ]
  },
  {
   "attachments": {},
   "cell_type": "markdown",
   "metadata": {},
   "source": [
    "Although the 'user_id's are not the only data we are using, we are aiming to include movies in the deep learning model as well. This means we need to enumerate the 'movie_id' so we can use them later in the process."
   ]
  },
  {
   "cell_type": "code",
   "execution_count": 9,
   "metadata": {},
   "outputs": [
    {
     "data": {
      "text/plain": [
       "0            0\n",
       "1            1\n",
       "2            2\n",
       "3            3\n",
       "4            4\n",
       "          ... \n",
       "100831    3120\n",
       "100832    2035\n",
       "100833    3121\n",
       "100834    1392\n",
       "100835    2873\n",
       "Name: movies_enumerated, Length: 100836, dtype: int64"
      ]
     },
     "execution_count": 9,
     "metadata": {},
     "output_type": "execute_result"
    }
   ],
   "source": [
    "#We are going to create a unique list of every movie within our dataset\n",
    "movie_list = user_df[\"movie_id\"].unique().tolist()\n",
    "#Next we are going to enumerate each user within the list, this will show their user id and the order in which it appears within the data set.\n",
    "#This is important as we may have missing users, it is also data that is used to construct the matrix later on to give recommendations.\n",
    "movie_list_enumerated = {x: i for i, x in enumerate(movie_list)}\n",
    "#Now we map the enumerated data to the user_id's and add it to the user_enumerated column\n",
    "user_df[\"movies_enumerated\"] = user_df[\"movie_id\"].map(movie_list_enumerated)\n",
    "user_df[\"movies_enumerated\"]"
   ]
  },
  {
   "attachments": {},
   "cell_type": "markdown",
   "metadata": {},
   "source": [
    "The next step is to split the data and create th training data"
   ]
  },
  {
   "cell_type": "code",
   "execution_count": 10,
   "metadata": {},
   "outputs": [
    {
     "data": {
      "text/plain": [
       "array([[   0,    0],\n",
       "       [   0,    1],\n",
       "       [   0,    2],\n",
       "       ...,\n",
       "       [ 609, 3121],\n",
       "       [ 609, 1392],\n",
       "       [ 609, 2873]], dtype=int64)"
      ]
     },
     "execution_count": 10,
     "metadata": {},
     "output_type": "execute_result"
    }
   ],
   "source": [
    "# Creating X values as \"user_enumerated\" & \"movies_enumerated\" in an array\n",
    "x = user_df[[\"user_enumerated\", \"movies_enumerated\"]].values\n",
    "x"
   ]
  },
  {
   "cell_type": "code",
   "execution_count": 11,
   "metadata": {},
   "outputs": [
    {
     "data": {
      "text/plain": [
       "array([0.77777778, 0.77777778, 0.77777778, ..., 1.        , 1.        ,\n",
       "       0.55555556])"
      ]
     },
     "execution_count": 11,
     "metadata": {},
     "output_type": "execute_result"
    }
   ],
   "source": [
    "#Normalising the rating data between 0 and 1 makes the data easier to train\n",
    "\n",
    "#Creating the min and max saves time when processing the data\n",
    "min_rating = np.min(user_df[\"rating\"])\n",
    "max_rating = np.max(user_df[\"rating\"])\n",
    "\n",
    "#Normalising the rating data\n",
    "y = user_df[\"rating\"].apply(lambda x: (x - min_rating) / (max_rating - min_rating)).values\n",
    "y"
   ]
  },
  {
   "cell_type": "code",
   "execution_count": 12,
   "metadata": {},
   "outputs": [
    {
     "data": {
      "text/plain": [
       "90752"
      ]
     },
     "execution_count": 12,
     "metadata": {},
     "output_type": "execute_result"
    }
   ],
   "source": [
    "# Splitting the data so 90% is used for training whilst 10% is used for results\n",
    "train_indices = int(0.9 * user_df.shape[0])\n",
    "train_indices"
   ]
  },
  {
   "cell_type": "code",
   "execution_count": 13,
   "metadata": {},
   "outputs": [],
   "source": [
    "#Creating the training data.\n",
    "x_train, x_val, y_train, y_val = (\n",
    "    x[:train_indices],\n",
    "    x[train_indices:],\n",
    "    y[:train_indices],\n",
    "    y[train_indices:],\n",
    ")"
   ]
  },
  {
   "attachments": {},
   "cell_type": "markdown",
   "metadata": {},
   "source": [
    "### Building a deep learning model"
   ]
  },
  {
   "cell_type": "code",
   "execution_count": 14,
   "metadata": {},
   "outputs": [],
   "source": [
    "#Building the deep learning model\n",
    "model = Sequential()\n",
    "model.add(Dense(20, activation='relu'))\n",
    "model.add(Dense(10, activation='relu'))\n",
    "model.compile(loss='binary_crossentropy', optimizer='adam', metrics=['accuracy'])\n"
   ]
  },
  {
   "cell_type": "code",
   "execution_count": 47,
   "metadata": {},
   "outputs": [
    {
     "name": "stdout",
     "output_type": "stream",
     "text": [
      "Epoch 1/5\n",
      "2836/2836 [==============================] - 6s 2ms/step - loss: 6.0712 - accuracy: 0.0900\n",
      "Epoch 2/5\n",
      "2836/2836 [==============================] - 6s 2ms/step - loss: 6.0059 - accuracy: 0.0897\n",
      "Epoch 3/5\n",
      "2836/2836 [==============================] - 5s 2ms/step - loss: 5.5338 - accuracy: 0.0656\n",
      "Epoch 4/5\n",
      "2836/2836 [==============================] - 6s 2ms/step - loss: 5.5342 - accuracy: 0.0552\n",
      "Epoch 5/5\n",
      "2836/2836 [==============================] - 5s 2ms/step - loss: 5.5688 - accuracy: 0.0331\n"
     ]
    },
    {
     "data": {
      "text/plain": [
       "<keras.callbacks.History at 0x1bdfc095820>"
      ]
     },
     "execution_count": 47,
     "metadata": {},
     "output_type": "execute_result"
    }
   ],
   "source": [
    "#Fitting the training data to the model\n",
    "model.fit(x_train, y_train, epochs=5)"
   ]
  },
  {
   "cell_type": "code",
   "execution_count": 16,
   "metadata": {},
   "outputs": [
    {
     "name": "stdout",
     "output_type": "stream",
     "text": [
      "316/316 [==============================] - 1s 2ms/step - loss: 6.6033 - accuracy: 0.0507\n",
      "[6.60329008102417, 0.05067433416843414]\n"
     ]
    }
   ],
   "source": [
    "#Evaluate the keras model, [Loss, Accuracy]\n",
    "accuracy = model.evaluate(x_val, y_val, verbose=1)\n",
    "print(accuracy)"
   ]
  },
  {
   "cell_type": "code",
   "execution_count": 41,
   "metadata": {},
   "outputs": [],
   "source": [
    "#Using some of the columns from the imported data\n",
    "movie_df = joined_movies_df[[\"movie_id\",\"title\",\"genres\"]]\n",
    "#Select the user to recommend\n",
    "userId = 2\n",
    "#Find movies the user has seen and movies the user has not seen\n",
    "movies_watched_by_user = user_df[user_df.user_id == userId]\n",
    "#Make movies not watched a pandas series so it can be read into the learning model\n",
    "movies_not_watched = movie_df[~movie_df[\"movie_id\"].isin(movies_watched_by_user.movie_id.values)][\"movie_id\"]"
   ]
  },
  {
   "cell_type": "code",
   "execution_count": 42,
   "metadata": {},
   "outputs": [
    {
     "name": "stdout",
     "output_type": "stream",
     "text": [
      "303/303 [==============================] - 0s 1ms/step\n"
     ]
    }
   ],
   "source": [
    "#Takes the movies not watched and finds their enumerated keys\n",
    "movies_not_watched = list(\n",
    "    set(movies_not_watched).intersection(set(movie_list_enumerated.keys()))\n",
    ")\n",
    "movies_not_watched = [[movie_list_enumerated.get(x)] for x in movies_not_watched]\n",
    "user_encoder = User_list_enumerated.get(userId)\n",
    "#Formats the users movies they haven't watched for model.predict\n",
    "user_movie_array = np.hstack(\n",
    "    ([[user_encoder]] * len(movies_not_watched), movies_not_watched)\n",
    ")\n",
    "#Predicts the best suited movies for the selected user\n",
    "movie_recs = model.predict(user_movie_array).flatten()"
   ]
  },
  {
   "cell_type": "code",
   "execution_count": 43,
   "metadata": {},
   "outputs": [
    {
     "data": {
      "text/plain": [
       "array([ 1321, 90581, 92481, 91951, 91761, 89221, 79811, 75511, 74641,\n",
       "       74211], dtype=int64)"
      ]
     },
     "execution_count": 43,
     "metadata": {},
     "output_type": "execute_result"
    }
   ],
   "source": [
    "#Sorts the movies into a top 10\n",
    "top_10_movie_recs = movie_recs.argsort()[-10:][::-1]\n",
    "top_10_movie_recs"
   ]
  },
  {
   "cell_type": "code",
   "execution_count": 107,
   "metadata": {},
   "outputs": [
    {
     "data": {
      "text/html": [
       "<div>\n",
       "<style scoped>\n",
       "    .dataframe tbody tr th:only-of-type {\n",
       "        vertical-align: middle;\n",
       "    }\n",
       "\n",
       "    .dataframe tbody tr th {\n",
       "        vertical-align: top;\n",
       "    }\n",
       "\n",
       "    .dataframe thead th {\n",
       "        text-align: right;\n",
       "    }\n",
       "</style>\n",
       "<table border=\"1\" class=\"dataframe\">\n",
       "  <thead>\n",
       "    <tr style=\"text-align: right;\">\n",
       "      <th></th>\n",
       "      <th>movie_id</th>\n",
       "      <th>title</th>\n",
       "      <th>genres</th>\n",
       "    </tr>\n",
       "  </thead>\n",
       "  <tbody>\n",
       "    <tr>\n",
       "      <th>69</th>\n",
       "      <td>1197</td>\n",
       "      <td>Princess Bride, The (1987)</td>\n",
       "      <td>Action|Adventure|Comedy|Fantasy|Romance</td>\n",
       "    </tr>\n",
       "    <tr>\n",
       "      <th>98</th>\n",
       "      <td>1517</td>\n",
       "      <td>Austin Powers: International Man of Mystery (1...</td>\n",
       "      <td>Action|Adventure|Comedy</td>\n",
       "    </tr>\n",
       "    <tr>\n",
       "      <th>107</th>\n",
       "      <td>1676</td>\n",
       "      <td>Starship Troopers (1997)</td>\n",
       "      <td>Action|Sci-Fi</td>\n",
       "    </tr>\n",
       "    <tr>\n",
       "      <th>140</th>\n",
       "      <td>2161</td>\n",
       "      <td>NeverEnding Story, The (1984)</td>\n",
       "      <td>Adventure|Children|Fantasy</td>\n",
       "    </tr>\n",
       "    <tr>\n",
       "      <th>1094</th>\n",
       "      <td>3735</td>\n",
       "      <td>Serpico (1973)</td>\n",
       "      <td>Crime|Drama</td>\n",
       "    </tr>\n",
       "    <tr>\n",
       "      <th>1098</th>\n",
       "      <td>5218</td>\n",
       "      <td>Ice Age (2002)</td>\n",
       "      <td>Adventure|Animation|Children|Comedy</td>\n",
       "    </tr>\n",
       "    <tr>\n",
       "      <th>1107</th>\n",
       "      <td>5872</td>\n",
       "      <td>Die Another Day (2002)</td>\n",
       "      <td>Action|Adventure|Thriller</td>\n",
       "    </tr>\n",
       "    <tr>\n",
       "      <th>1114</th>\n",
       "      <td>5962</td>\n",
       "      <td>Body of Evidence (1993)</td>\n",
       "      <td>Drama|Thriller</td>\n",
       "    </tr>\n",
       "    <tr>\n",
       "      <th>1182</th>\n",
       "      <td>49286</td>\n",
       "      <td>Holiday, The (2006)</td>\n",
       "      <td>Comedy|Romance</td>\n",
       "    </tr>\n",
       "    <tr>\n",
       "      <th>1201</th>\n",
       "      <td>69406</td>\n",
       "      <td>Proposal, The (2009)</td>\n",
       "      <td>Comedy|Romance</td>\n",
       "    </tr>\n",
       "  </tbody>\n",
       "</table>\n",
       "</div>"
      ],
      "text/plain": [
       "      movie_id                                              title  \\\n",
       "69        1197                         Princess Bride, The (1987)   \n",
       "98        1517  Austin Powers: International Man of Mystery (1...   \n",
       "107       1676                           Starship Troopers (1997)   \n",
       "140       2161                      NeverEnding Story, The (1984)   \n",
       "1094      3735                                     Serpico (1973)   \n",
       "1098      5218                                     Ice Age (2002)   \n",
       "1107      5872                             Die Another Day (2002)   \n",
       "1114      5962                            Body of Evidence (1993)   \n",
       "1182     49286                                Holiday, The (2006)   \n",
       "1201     69406                               Proposal, The (2009)   \n",
       "\n",
       "                                       genres  \n",
       "69    Action|Adventure|Comedy|Fantasy|Romance  \n",
       "98                    Action|Adventure|Comedy  \n",
       "107                             Action|Sci-Fi  \n",
       "140                Adventure|Children|Fantasy  \n",
       "1094                              Crime|Drama  \n",
       "1098      Adventure|Animation|Children|Comedy  \n",
       "1107                Action|Adventure|Thriller  \n",
       "1114                           Drama|Thriller  \n",
       "1182                           Comedy|Romance  \n",
       "1201                           Comedy|Romance  "
      ]
     },
     "execution_count": 107,
     "metadata": {},
     "output_type": "execute_result"
    }
   ],
   "source": [
    "#Provides a list of the movies recommended to the user\n",
    "movies_to_watch = movie_df[movie_df.index.isin(top_10_movie_recs)]\n",
    "movies_to_watch"
   ]
  },
  {
   "cell_type": "code",
   "execution_count": 45,
   "metadata": {},
   "outputs": [
    {
     "data": {
      "text/html": [
       "<div>\n",
       "<style scoped>\n",
       "    .dataframe tbody tr th:only-of-type {\n",
       "        vertical-align: middle;\n",
       "    }\n",
       "\n",
       "    .dataframe tbody tr th {\n",
       "        vertical-align: top;\n",
       "    }\n",
       "\n",
       "    .dataframe thead th {\n",
       "        text-align: right;\n",
       "    }\n",
       "</style>\n",
       "<table border=\"1\" class=\"dataframe\">\n",
       "  <thead>\n",
       "    <tr style=\"text-align: right;\">\n",
       "      <th></th>\n",
       "      <th>movie_id</th>\n",
       "      <th>title</th>\n",
       "      <th>genres</th>\n",
       "    </tr>\n",
       "  </thead>\n",
       "  <tbody>\n",
       "    <tr>\n",
       "      <th>232</th>\n",
       "      <td>318</td>\n",
       "      <td>Shawshank Redemption, The (1994)</td>\n",
       "      <td>Crime|Drama</td>\n",
       "    </tr>\n",
       "    <tr>\n",
       "      <th>233</th>\n",
       "      <td>333</td>\n",
       "      <td>Tommy Boy (1995)</td>\n",
       "      <td>Comedy</td>\n",
       "    </tr>\n",
       "    <tr>\n",
       "      <th>234</th>\n",
       "      <td>1704</td>\n",
       "      <td>Good Will Hunting (1997)</td>\n",
       "      <td>Drama|Romance</td>\n",
       "    </tr>\n",
       "    <tr>\n",
       "      <th>235</th>\n",
       "      <td>3578</td>\n",
       "      <td>Gladiator (2000)</td>\n",
       "      <td>Action|Adventure|Drama</td>\n",
       "    </tr>\n",
       "    <tr>\n",
       "      <th>236</th>\n",
       "      <td>6874</td>\n",
       "      <td>Kill Bill: Vol. 1 (2003)</td>\n",
       "      <td>Action|Crime|Thriller</td>\n",
       "    </tr>\n",
       "    <tr>\n",
       "      <th>237</th>\n",
       "      <td>8798</td>\n",
       "      <td>Collateral (2004)</td>\n",
       "      <td>Action|Crime|Drama|Thriller</td>\n",
       "    </tr>\n",
       "    <tr>\n",
       "      <th>238</th>\n",
       "      <td>46970</td>\n",
       "      <td>Talladega Nights: The Ballad of Ricky Bobby (2...</td>\n",
       "      <td>Action|Comedy</td>\n",
       "    </tr>\n",
       "    <tr>\n",
       "      <th>239</th>\n",
       "      <td>48516</td>\n",
       "      <td>Departed, The (2006)</td>\n",
       "      <td>Crime|Drama|Thriller</td>\n",
       "    </tr>\n",
       "    <tr>\n",
       "      <th>240</th>\n",
       "      <td>58559</td>\n",
       "      <td>Dark Knight, The (2008)</td>\n",
       "      <td>Action|Crime|Drama|IMAX</td>\n",
       "    </tr>\n",
       "    <tr>\n",
       "      <th>241</th>\n",
       "      <td>60756</td>\n",
       "      <td>Step Brothers (2008)</td>\n",
       "      <td>Comedy</td>\n",
       "    </tr>\n",
       "  </tbody>\n",
       "</table>\n",
       "</div>"
      ],
      "text/plain": [
       "     movie_id                                              title  \\\n",
       "232       318                   Shawshank Redemption, The (1994)   \n",
       "233       333                                   Tommy Boy (1995)   \n",
       "234      1704                           Good Will Hunting (1997)   \n",
       "235      3578                                   Gladiator (2000)   \n",
       "236      6874                           Kill Bill: Vol. 1 (2003)   \n",
       "237      8798                                  Collateral (2004)   \n",
       "238     46970  Talladega Nights: The Ballad of Ricky Bobby (2...   \n",
       "239     48516                               Departed, The (2006)   \n",
       "240     58559                            Dark Knight, The (2008)   \n",
       "241     60756                               Step Brothers (2008)   \n",
       "\n",
       "                          genres  \n",
       "232                  Crime|Drama  \n",
       "233                       Comedy  \n",
       "234                Drama|Romance  \n",
       "235       Action|Adventure|Drama  \n",
       "236        Action|Crime|Thriller  \n",
       "237  Action|Crime|Drama|Thriller  \n",
       "238                Action|Comedy  \n",
       "239         Crime|Drama|Thriller  \n",
       "240      Action|Crime|Drama|IMAX  \n",
       "241                       Comedy  "
      ]
     },
     "execution_count": 45,
     "metadata": {},
     "output_type": "execute_result"
    }
   ],
   "source": [
    "#View users top 10 movie reviews for comparison\n",
    "user_top_movies = joined_movies_df[[\"movie_id\",\"title\",\"genres\",\"user_id\",\"rating\"]]\n",
    "user_top_movies = user_top_movies[user_top_movies.user_id == userId]\n",
    "user_top_movies.sort_values(\"rating\", ascending=False)\n",
    "user_top_movies = user_top_movies[[\"movie_id\",\"title\",\"genres\"]]\n",
    "user_top_movies.head(10)"
   ]
  },
  {
   "attachments": {},
   "cell_type": "markdown",
   "metadata": {},
   "source": [
    "While the deep learning had worked, the results were very inaccurate and suffered a lot of lost data. Meaning the results from the learning model are probably not very useful. The next part will be to optimise the deep learning model to see if the accuracy increases."
   ]
  },
  {
   "attachments": {},
   "cell_type": "markdown",
   "metadata": {},
   "source": [
    "## Optimisation 1\n",
    "Adding more epochs and batch"
   ]
  },
  {
   "cell_type": "code",
   "execution_count": 22,
   "metadata": {},
   "outputs": [],
   "source": [
    "#Building the deep learning model\n",
    "model_opt1 = Sequential()\n",
    "model_opt1.add(Dense(20, activation='relu'))\n",
    "model_opt1.add(Dense(10, activation='relu'))\n",
    "model_opt1.compile(loss='binary_crossentropy', optimizer='adam', metrics=['accuracy'])\n"
   ]
  },
  {
   "cell_type": "code",
   "execution_count": 23,
   "metadata": {},
   "outputs": [
    {
     "name": "stdout",
     "output_type": "stream",
     "text": [
      "Epoch 1/10\n",
      "9076/9076 [==============================] - 17s 2ms/step - loss: 5.5080 - accuracy: 0.0429\n",
      "Epoch 2/10\n",
      "9076/9076 [==============================] - 20s 2ms/step - loss: 4.9992 - accuracy: 0.0564\n",
      "Epoch 3/10\n",
      "9076/9076 [==============================] - 22s 2ms/step - loss: 4.9967 - accuracy: 0.0880\n",
      "Epoch 4/10\n",
      "9076/9076 [==============================] - 21s 2ms/step - loss: 4.9963 - accuracy: 0.1029\n",
      "Epoch 5/10\n",
      "9076/9076 [==============================] - 21s 2ms/step - loss: 4.9964 - accuracy: 0.1267\n",
      "Epoch 6/10\n",
      "9076/9076 [==============================] - 21s 2ms/step - loss: 4.9966 - accuracy: 0.1357\n",
      "Epoch 7/10\n",
      "9076/9076 [==============================] - 21s 2ms/step - loss: 4.9964 - accuracy: 0.1357\n",
      "Epoch 8/10\n",
      "9076/9076 [==============================] - 21s 2ms/step - loss: 4.9964 - accuracy: 0.1357\n",
      "Epoch 9/10\n",
      "9076/9076 [==============================] - 21s 2ms/step - loss: 4.9964 - accuracy: 0.1357\n",
      "Epoch 10/10\n",
      "9076/9076 [==============================] - 22s 2ms/step - loss: 4.9964 - accuracy: 0.1357\n"
     ]
    },
    {
     "data": {
      "text/plain": [
       "<keras.callbacks.History at 0x1bdfc2ef9d0>"
      ]
     },
     "execution_count": 23,
     "metadata": {},
     "output_type": "execute_result"
    }
   ],
   "source": [
    "#Fitting the training data to the model\n",
    "model_opt1.fit(x_train, y_train, epochs=10, batch_size=10)"
   ]
  },
  {
   "cell_type": "code",
   "execution_count": 24,
   "metadata": {},
   "outputs": [
    {
     "name": "stdout",
     "output_type": "stream",
     "text": [
      "316/316 [==============================] - 2s 4ms/step - loss: 5.8100 - accuracy: 0.0891\n",
      "[5.8099517822265625, 0.08905196189880371]\n"
     ]
    }
   ],
   "source": [
    "#Evaluate the keras model, [Loss, Accuracy]\n",
    "accuracy = model_opt1.evaluate(x_val, y_val, verbose=1)\n",
    "print(accuracy)"
   ]
  },
  {
   "attachments": {},
   "cell_type": "markdown",
   "metadata": {},
   "source": [
    "Adding more batch layers and increasing the epochs had increased the accuracy to 0.1357 from the initial 0.0331 accuracy. The model also had less losses going from 5.5 to 4.9, but the model still loses a lot of data meaning the results might not be very useful."
   ]
  },
  {
   "attachments": {},
   "cell_type": "markdown",
   "metadata": {},
   "source": [
    "### Optimise 2\n",
    "Adding more layers and increasing the density"
   ]
  },
  {
   "cell_type": "code",
   "execution_count": 25,
   "metadata": {},
   "outputs": [],
   "source": [
    "#Building the deep learning model\n",
    "model_opt2 = Sequential()\n",
    "model_opt2.add(Dense(80, activation='relu'))\n",
    "model_opt2.add(Dense(40, activation='relu'))\n",
    "model_opt2.add(Dense(20, activation='relu'))\n",
    "model_opt2.add(Dense(10, activation='relu'))\n",
    "model_opt2.compile(loss='binary_crossentropy', optimizer='adam', metrics=['accuracy'])"
   ]
  },
  {
   "cell_type": "code",
   "execution_count": 26,
   "metadata": {},
   "outputs": [
    {
     "name": "stdout",
     "output_type": "stream",
     "text": [
      "Epoch 1/10\n",
      "9076/9076 [==============================] - 26s 3ms/step - loss: 7.1102 - accuracy: 0.0149\n",
      "Epoch 2/10\n",
      "9076/9076 [==============================] - 27s 3ms/step - loss: 7.1462 - accuracy: 0.0302\n",
      "Epoch 3/10\n",
      "9076/9076 [==============================] - 25s 3ms/step - loss: 7.3409 - accuracy: 0.0000e+00\n",
      "Epoch 4/10\n",
      "9076/9076 [==============================] - 28s 3ms/step - loss: 7.6836 - accuracy: 0.0000e+00\n",
      "Epoch 5/10\n",
      "9076/9076 [==============================] - 31s 3ms/step - loss: 7.5682 - accuracy: 0.0000e+00\n",
      "Epoch 6/10\n",
      "9076/9076 [==============================] - 30s 3ms/step - loss: 7.1462 - accuracy: 0.0000e+00\n",
      "Epoch 7/10\n",
      "9076/9076 [==============================] - 30s 3ms/step - loss: 7.0469 - accuracy: 0.0000e+00\n",
      "Epoch 8/10\n",
      "9076/9076 [==============================] - 30s 3ms/step - loss: 6.6101 - accuracy: 0.0000e+00\n",
      "Epoch 9/10\n",
      "9076/9076 [==============================] - 31s 3ms/step - loss: 6.6091 - accuracy: 0.0000e+00\n",
      "Epoch 10/10\n",
      "9076/9076 [==============================] - 31s 3ms/step - loss: 6.6088 - accuracy: 0.0000e+00\n"
     ]
    },
    {
     "data": {
      "text/plain": [
       "<keras.callbacks.History at 0x1bd803c96a0>"
      ]
     },
     "execution_count": 26,
     "metadata": {},
     "output_type": "execute_result"
    }
   ],
   "source": [
    "#Fitting the training data to the model\n",
    "model_opt2.fit(x_train, y_train, epochs=10, batch_size=10)"
   ]
  },
  {
   "cell_type": "code",
   "execution_count": 27,
   "metadata": {},
   "outputs": [
    {
     "name": "stdout",
     "output_type": "stream",
     "text": [
      "316/316 [==============================] - 1s 2ms/step - loss: 6.9314 - accuracy: 0.0000e+00\n",
      "[6.931399822235107, 0.0]\n"
     ]
    }
   ],
   "source": [
    "#Evaluate the keras model, [Loss, Accuracy]\n",
    "accuracy = model_opt2.evaluate(x_val, y_val, verbose=1)\n",
    "print(accuracy)"
   ]
  },
  {
   "attachments": {},
   "cell_type": "markdown",
   "metadata": {},
   "source": [
    "Seemingly this was a massive step back, the increase in density for each layer had increased the lost data to almost 7 and the accuracy is 0 which was very disappointing, potentially adding another layer that with another activation would help."
   ]
  },
  {
   "attachments": {},
   "cell_type": "markdown",
   "metadata": {},
   "source": [
    "### Optimise 3\n",
    "adding a sigmoid layer"
   ]
  },
  {
   "cell_type": "code",
   "execution_count": 54,
   "metadata": {},
   "outputs": [],
   "source": [
    "#Building the deep learning model\n",
    "model_opt3 = Sequential()\n",
    "model_opt3.add(Dense(80, activation='relu'))\n",
    "model_opt3.add(Dense(40, activation='relu'))\n",
    "model_opt3.add(Dense(20, activation='relu'))\n",
    "model_opt3.add(Dense(10, activation='relu'))\n",
    "model_opt3.add(Dense(1, activation='sigmoid'))\n",
    "model_opt3.compile(loss='binary_crossentropy', optimizer='adam', metrics=['accuracy'])"
   ]
  },
  {
   "cell_type": "code",
   "execution_count": 55,
   "metadata": {},
   "outputs": [
    {
     "name": "stdout",
     "output_type": "stream",
     "text": [
      "Epoch 1/10\n",
      "9076/9076 [==============================] - 34s 4ms/step - loss: 0.7007 - accuracy: 0.1321\n",
      "Epoch 2/10\n",
      "9076/9076 [==============================] - 24s 3ms/step - loss: 0.6312 - accuracy: 0.1356\n",
      "Epoch 3/10\n",
      "9076/9076 [==============================] - 22s 2ms/step - loss: 0.6311 - accuracy: 0.1357\n",
      "Epoch 4/10\n",
      "9076/9076 [==============================] - 21s 2ms/step - loss: 0.6312 - accuracy: 0.1357\n",
      "Epoch 5/10\n",
      "9076/9076 [==============================] - 23s 3ms/step - loss: 0.6311 - accuracy: 0.1357\n",
      "Epoch 6/10\n",
      "9076/9076 [==============================] - 23s 3ms/step - loss: 0.6309 - accuracy: 0.1357\n",
      "Epoch 7/10\n",
      "9076/9076 [==============================] - 24s 3ms/step - loss: 0.6309 - accuracy: 0.1357\n",
      "Epoch 8/10\n",
      "9076/9076 [==============================] - 24s 3ms/step - loss: 0.6309 - accuracy: 0.1357\n",
      "Epoch 9/10\n",
      "9076/9076 [==============================] - 24s 3ms/step - loss: 0.6311 - accuracy: 0.1357\n",
      "Epoch 10/10\n",
      "9076/9076 [==============================] - 24s 3ms/step - loss: 0.6310 - accuracy: 0.1357\n"
     ]
    },
    {
     "data": {
      "text/plain": [
       "<keras.callbacks.History at 0x1bd996398e0>"
      ]
     },
     "execution_count": 55,
     "metadata": {},
     "output_type": "execute_result"
    }
   ],
   "source": [
    "#Fitting the training data to the model\n",
    "model_opt3.fit(x_train, y_train, epochs=10, batch_size=10)"
   ]
  },
  {
   "cell_type": "code",
   "execution_count": 30,
   "metadata": {},
   "outputs": [
    {
     "name": "stdout",
     "output_type": "stream",
     "text": [
      "316/316 [==============================] - 1s 2ms/step - loss: 0.6641 - accuracy: 0.0891\n",
      "[0.6641236543655396, 0.08905196189880371]\n"
     ]
    }
   ],
   "source": [
    "#Evaluate the keras model, [Loss, Accuracy]\n",
    "accuracy = model_opt3.evaluate(x_val, y_val, verbose=1)\n",
    "print(accuracy)"
   ]
  },
  {
   "attachments": {},
   "cell_type": "markdown",
   "metadata": {},
   "source": [
    "The sigmoid layer was a great improvement since it means the model has a more accurate final layer and better produces results. The accuracy is now 0.1357 and the loss is only 0.6310. While these are not particularly high results by themselves, but in comparison from previous results this is a good improvement."
   ]
  },
  {
   "attachments": {},
   "cell_type": "markdown",
   "metadata": {},
   "source": [
    "### Optimisation 5\n",
    "adding more relu layers as it seem more effective and lowering the density."
   ]
  },
  {
   "cell_type": "code",
   "execution_count": 33,
   "metadata": {},
   "outputs": [],
   "source": [
    "#Building the deep learning model\n",
    "model_opt5 = Sequential()\n",
    "model_opt5.add(Dense(55, activation='relu'))\n",
    "model_opt5.add(Dense(50, activation='relu'))\n",
    "model_opt5.add(Dense(45, activation='relu'))\n",
    "model_opt5.add(Dense(40, activation='relu'))\n",
    "model_opt5.add(Dense(20, activation='relu'))\n",
    "model_opt5.add(Dense(10, activation='relu'))\n",
    "model_opt5.add(Dense(1, activation='sigmoid'))\n",
    "model_opt5.compile(loss='binary_crossentropy', optimizer=\"adam\", metrics=['accuracy'])\n"
   ]
  },
  {
   "cell_type": "code",
   "execution_count": 34,
   "metadata": {},
   "outputs": [
    {
     "name": "stdout",
     "output_type": "stream",
     "text": [
      "Epoch 1/10\n",
      "9076/9076 [==============================] - 25s 3ms/step - loss: 0.6833 - accuracy: 0.1334\n",
      "Epoch 2/10\n",
      "9076/9076 [==============================] - 25s 3ms/step - loss: 0.6312 - accuracy: 0.1356\n",
      "Epoch 3/10\n",
      "9076/9076 [==============================] - 23s 3ms/step - loss: 0.6311 - accuracy: 0.1357\n",
      "Epoch 4/10\n",
      "9076/9076 [==============================] - 24s 3ms/step - loss: 0.6299 - accuracy: 0.1357\n",
      "Epoch 5/10\n",
      "9076/9076 [==============================] - 28s 3ms/step - loss: 0.6295 - accuracy: 0.1357\n",
      "Epoch 6/10\n",
      "9076/9076 [==============================] - 26s 3ms/step - loss: 0.6294 - accuracy: 0.1357\n",
      "Epoch 7/10\n",
      "9076/9076 [==============================] - 22s 2ms/step - loss: 0.6300 - accuracy: 0.1357\n",
      "Epoch 8/10\n",
      "9076/9076 [==============================] - 22s 2ms/step - loss: 0.6293 - accuracy: 0.1357\n",
      "Epoch 9/10\n",
      "9076/9076 [==============================] - 23s 2ms/step - loss: 0.6292 - accuracy: 0.1357\n",
      "Epoch 10/10\n",
      "9076/9076 [==============================] - 24s 3ms/step - loss: 0.6299 - accuracy: 0.1357\n"
     ]
    },
    {
     "data": {
      "text/plain": [
       "<keras.callbacks.History at 0x1bdfbb28850>"
      ]
     },
     "execution_count": 34,
     "metadata": {},
     "output_type": "execute_result"
    }
   ],
   "source": [
    "#Fitting the training data to the model\n",
    "model_opt5.fit(x_train, y_train, epochs=10, batch_size=10)"
   ]
  },
  {
   "cell_type": "code",
   "execution_count": 35,
   "metadata": {},
   "outputs": [
    {
     "name": "stdout",
     "output_type": "stream",
     "text": [
      "[0.6679068803787231, 0.08905196189880371]\n"
     ]
    }
   ],
   "source": [
    "#Evaluate the keras model, [Loss, Accuracy]\n",
    "accuracy = model_opt5.evaluate(x_val, y_val, verbose=0)\n",
    "print(accuracy)"
   ]
  },
  {
   "attachments": {},
   "cell_type": "markdown",
   "metadata": {},
   "source": [
    "While the accuracy stayed at 0.1357 there was a small amount of data that was better retained but overall the final optimisation has had minimal effect on the results."
   ]
  },
  {
   "attachments": {},
   "cell_type": "markdown",
   "metadata": {},
   "source": [
    "### Post optimisation results\n",
    "After optimising the data the recommendation results are as follows."
   ]
  },
  {
   "cell_type": "code",
   "execution_count": 93,
   "metadata": {},
   "outputs": [],
   "source": [
    "#Using some of the columns from the imported data\n",
    "movie_df = joined_movies_df[[\"movie_id\",\"title\",\"genres\"]]\n",
    "#Select the user to recommend\n",
    "userId = 315\n",
    "#Find movies the user has seen and movies the user has not seen\n",
    "movies_watched_by_user = user_df[user_df.user_id == userId]\n",
    "#Make movies not watched a pandas series so it can be read into the learning model\n",
    "movies_not_watched = movie_df[~movie_df[\"movie_id\"].isin(movies_watched_by_user.movie_id.values)][\"movie_id\"]"
   ]
  },
  {
   "cell_type": "code",
   "execution_count": 94,
   "metadata": {},
   "outputs": [
    {
     "name": "stdout",
     "output_type": "stream",
     "text": [
      "303/303 [==============================] - 2s 7ms/step\n"
     ]
    }
   ],
   "source": [
    "#Takes the movies not watched and finds their enumerated keys\n",
    "movies_not_watched = list(\n",
    "    set(movies_not_watched).intersection(set(movie_list_enumerated.keys()))\n",
    ")\n",
    "movies_not_watched = [[movie_list_enumerated.get(x)] for x in movies_not_watched]\n",
    "user_encoder = User_list_enumerated.get(userId)\n",
    "#Formats the users movies they haven't watched for model.predict\n",
    "user_movie_array = np.hstack(\n",
    "    ([[user_encoder]] * len(movies_not_watched), movies_not_watched)\n",
    ")\n",
    "#Predicts the best suited movies for the selected user\n",
    "movie_recs = model_opt5.predict(user_movie_array).flatten()"
   ]
  },
  {
   "cell_type": "code",
   "execution_count": 95,
   "metadata": {},
   "outputs": [
    {
     "data": {
      "text/plain": [
       "array([  69,   98,  107,  140, 1201, 1094, 1098, 1107, 1114, 1182],\n",
       "      dtype=int64)"
      ]
     },
     "execution_count": 95,
     "metadata": {},
     "output_type": "execute_result"
    }
   ],
   "source": [
    "#Sorts the movies into a top 10\n",
    "top_10_movie_recs = movie_recs.argsort()[-10:][::-1]\n",
    "top_10_movie_recs"
   ]
  },
  {
   "cell_type": "code",
   "execution_count": 109,
   "metadata": {},
   "outputs": [
    {
     "data": {
      "text/html": [
       "<div>\n",
       "<style scoped>\n",
       "    .dataframe tbody tr th:only-of-type {\n",
       "        vertical-align: middle;\n",
       "    }\n",
       "\n",
       "    .dataframe tbody tr th {\n",
       "        vertical-align: top;\n",
       "    }\n",
       "\n",
       "    .dataframe thead th {\n",
       "        text-align: right;\n",
       "    }\n",
       "</style>\n",
       "<table border=\"1\" class=\"dataframe\">\n",
       "  <thead>\n",
       "    <tr style=\"text-align: right;\">\n",
       "      <th></th>\n",
       "      <th>movie_id</th>\n",
       "      <th>title</th>\n",
       "      <th>genres</th>\n",
       "    </tr>\n",
       "  </thead>\n",
       "  <tbody>\n",
       "    <tr>\n",
       "      <th>69</th>\n",
       "      <td>1197</td>\n",
       "      <td>Princess Bride, The (1987)</td>\n",
       "      <td>Action|Adventure|Comedy|Fantasy|Romance</td>\n",
       "    </tr>\n",
       "    <tr>\n",
       "      <th>98</th>\n",
       "      <td>1517</td>\n",
       "      <td>Austin Powers: International Man of Mystery (1...</td>\n",
       "      <td>Action|Adventure|Comedy</td>\n",
       "    </tr>\n",
       "    <tr>\n",
       "      <th>107</th>\n",
       "      <td>1676</td>\n",
       "      <td>Starship Troopers (1997)</td>\n",
       "      <td>Action|Sci-Fi</td>\n",
       "    </tr>\n",
       "    <tr>\n",
       "      <th>140</th>\n",
       "      <td>2161</td>\n",
       "      <td>NeverEnding Story, The (1984)</td>\n",
       "      <td>Adventure|Children|Fantasy</td>\n",
       "    </tr>\n",
       "    <tr>\n",
       "      <th>1094</th>\n",
       "      <td>3735</td>\n",
       "      <td>Serpico (1973)</td>\n",
       "      <td>Crime|Drama</td>\n",
       "    </tr>\n",
       "    <tr>\n",
       "      <th>1098</th>\n",
       "      <td>5218</td>\n",
       "      <td>Ice Age (2002)</td>\n",
       "      <td>Adventure|Animation|Children|Comedy</td>\n",
       "    </tr>\n",
       "    <tr>\n",
       "      <th>1107</th>\n",
       "      <td>5872</td>\n",
       "      <td>Die Another Day (2002)</td>\n",
       "      <td>Action|Adventure|Thriller</td>\n",
       "    </tr>\n",
       "    <tr>\n",
       "      <th>1114</th>\n",
       "      <td>5962</td>\n",
       "      <td>Body of Evidence (1993)</td>\n",
       "      <td>Drama|Thriller</td>\n",
       "    </tr>\n",
       "    <tr>\n",
       "      <th>1182</th>\n",
       "      <td>49286</td>\n",
       "      <td>Holiday, The (2006)</td>\n",
       "      <td>Comedy|Romance</td>\n",
       "    </tr>\n",
       "    <tr>\n",
       "      <th>1201</th>\n",
       "      <td>69406</td>\n",
       "      <td>Proposal, The (2009)</td>\n",
       "      <td>Comedy|Romance</td>\n",
       "    </tr>\n",
       "  </tbody>\n",
       "</table>\n",
       "</div>"
      ],
      "text/plain": [
       "      movie_id                                              title  \\\n",
       "69        1197                         Princess Bride, The (1987)   \n",
       "98        1517  Austin Powers: International Man of Mystery (1...   \n",
       "107       1676                           Starship Troopers (1997)   \n",
       "140       2161                      NeverEnding Story, The (1984)   \n",
       "1094      3735                                     Serpico (1973)   \n",
       "1098      5218                                     Ice Age (2002)   \n",
       "1107      5872                             Die Another Day (2002)   \n",
       "1114      5962                            Body of Evidence (1993)   \n",
       "1182     49286                                Holiday, The (2006)   \n",
       "1201     69406                               Proposal, The (2009)   \n",
       "\n",
       "                                       genres  \n",
       "69    Action|Adventure|Comedy|Fantasy|Romance  \n",
       "98                    Action|Adventure|Comedy  \n",
       "107                             Action|Sci-Fi  \n",
       "140                Adventure|Children|Fantasy  \n",
       "1094                              Crime|Drama  \n",
       "1098      Adventure|Animation|Children|Comedy  \n",
       "1107                Action|Adventure|Thriller  \n",
       "1114                           Drama|Thriller  \n",
       "1182                           Comedy|Romance  \n",
       "1201                           Comedy|Romance  "
      ]
     },
     "execution_count": 109,
     "metadata": {},
     "output_type": "execute_result"
    }
   ],
   "source": [
    "#Provides a list of the movies recommended to the user\n",
    "movies_to_watch = movie_df[movie_df.index.isin(top_10_movie_recs)]\n",
    "movies_to_watch"
   ]
  },
  {
   "cell_type": "code",
   "execution_count": 97,
   "metadata": {},
   "outputs": [
    {
     "data": {
      "text/html": [
       "<div>\n",
       "<style scoped>\n",
       "    .dataframe tbody tr th:only-of-type {\n",
       "        vertical-align: middle;\n",
       "    }\n",
       "\n",
       "    .dataframe tbody tr th {\n",
       "        vertical-align: top;\n",
       "    }\n",
       "\n",
       "    .dataframe thead th {\n",
       "        text-align: right;\n",
       "    }\n",
       "</style>\n",
       "<table border=\"1\" class=\"dataframe\">\n",
       "  <thead>\n",
       "    <tr style=\"text-align: right;\">\n",
       "      <th></th>\n",
       "      <th>movie_id</th>\n",
       "      <th>title</th>\n",
       "      <th>genres</th>\n",
       "    </tr>\n",
       "  </thead>\n",
       "  <tbody>\n",
       "    <tr>\n",
       "      <th>48709</th>\n",
       "      <td>154</td>\n",
       "      <td>Beauty of the Day (Belle de jour) (1967)</td>\n",
       "      <td>Drama</td>\n",
       "    </tr>\n",
       "    <tr>\n",
       "      <th>48710</th>\n",
       "      <td>599</td>\n",
       "      <td>Wild Bunch, The (1969)</td>\n",
       "      <td>Adventure|Western</td>\n",
       "    </tr>\n",
       "    <tr>\n",
       "      <th>48711</th>\n",
       "      <td>902</td>\n",
       "      <td>Breakfast at Tiffany's (1961)</td>\n",
       "      <td>Drama|Romance</td>\n",
       "    </tr>\n",
       "    <tr>\n",
       "      <th>48712</th>\n",
       "      <td>909</td>\n",
       "      <td>Apartment, The (1960)</td>\n",
       "      <td>Comedy|Drama|Romance</td>\n",
       "    </tr>\n",
       "    <tr>\n",
       "      <th>48713</th>\n",
       "      <td>914</td>\n",
       "      <td>My Fair Lady (1964)</td>\n",
       "      <td>Comedy|Drama|Musical|Romance</td>\n",
       "    </tr>\n",
       "    <tr>\n",
       "      <th>48714</th>\n",
       "      <td>924</td>\n",
       "      <td>2001: A Space Odyssey (1968)</td>\n",
       "      <td>Adventure|Drama|Sci-Fi</td>\n",
       "    </tr>\n",
       "    <tr>\n",
       "      <th>48715</th>\n",
       "      <td>1028</td>\n",
       "      <td>Mary Poppins (1964)</td>\n",
       "      <td>Children|Comedy|Fantasy|Musical</td>\n",
       "    </tr>\n",
       "    <tr>\n",
       "      <th>48716</th>\n",
       "      <td>1035</td>\n",
       "      <td>Sound of Music, The (1965)</td>\n",
       "      <td>Musical|Romance</td>\n",
       "    </tr>\n",
       "    <tr>\n",
       "      <th>48717</th>\n",
       "      <td>1084</td>\n",
       "      <td>Bonnie and Clyde (1967)</td>\n",
       "      <td>Crime|Drama</td>\n",
       "    </tr>\n",
       "    <tr>\n",
       "      <th>48718</th>\n",
       "      <td>1201</td>\n",
       "      <td>Good, the Bad and the Ugly, The (Buono, il bru...</td>\n",
       "      <td>Action|Adventure|Western</td>\n",
       "    </tr>\n",
       "  </tbody>\n",
       "</table>\n",
       "</div>"
      ],
      "text/plain": [
       "       movie_id                                              title  \\\n",
       "48709       154           Beauty of the Day (Belle de jour) (1967)   \n",
       "48710       599                             Wild Bunch, The (1969)   \n",
       "48711       902                      Breakfast at Tiffany's (1961)   \n",
       "48712       909                              Apartment, The (1960)   \n",
       "48713       914                                My Fair Lady (1964)   \n",
       "48714       924                       2001: A Space Odyssey (1968)   \n",
       "48715      1028                                Mary Poppins (1964)   \n",
       "48716      1035                         Sound of Music, The (1965)   \n",
       "48717      1084                            Bonnie and Clyde (1967)   \n",
       "48718      1201  Good, the Bad and the Ugly, The (Buono, il bru...   \n",
       "\n",
       "                                genres  \n",
       "48709                            Drama  \n",
       "48710                Adventure|Western  \n",
       "48711                    Drama|Romance  \n",
       "48712             Comedy|Drama|Romance  \n",
       "48713     Comedy|Drama|Musical|Romance  \n",
       "48714           Adventure|Drama|Sci-Fi  \n",
       "48715  Children|Comedy|Fantasy|Musical  \n",
       "48716                  Musical|Romance  \n",
       "48717                      Crime|Drama  \n",
       "48718         Action|Adventure|Western  "
      ]
     },
     "execution_count": 97,
     "metadata": {},
     "output_type": "execute_result"
    }
   ],
   "source": [
    "#View users top 10 movie reviews for comparison\n",
    "user_top_movies = joined_movies_df[[\"movie_id\",\"title\",\"genres\",\"user_id\",\"rating\"]]\n",
    "user_top_movies = user_top_movies[user_top_movies.user_id == userId]\n",
    "user_top_movies.sort_values(\"rating\", ascending=False)\n",
    "user_top_movies = user_top_movies[[\"movie_id\",\"title\",\"genres\"]]\n",
    "user_top_movies.head(10)"
   ]
  },
  {
   "cell_type": "code",
   "execution_count": 103,
   "metadata": {},
   "outputs": [
    {
     "name": "stdout",
     "output_type": "stream",
     "text": [
      "F1 Score = 0.6679068803787231, Precision = 0.08905196189880371\n"
     ]
    }
   ],
   "source": [
    "f1_score, precision = model_opt5.evaluate(x_val, y_val, verbose=0)\n",
    "print(f\"F1 Score = {f1_score}, Precision = {precision}\")"
   ]
  },
  {
   "cell_type": "code",
   "execution_count": 102,
   "metadata": {},
   "outputs": [
    {
     "name": "stdout",
     "output_type": "stream",
     "text": [
      "Recall = [0.6679068803787231, 0.08905196189880371]\n"
     ]
    }
   ],
   "source": [
    "recall = model_opt5.evaluate(x_val, y_val, verbose=0)\n",
    "print(f\"Recall = {recall}\")"
   ]
  }
 ],
 "metadata": {
  "kernelspec": {
   "display_name": "base",
   "language": "python",
   "name": "python3"
  },
  "language_info": {
   "codemirror_mode": {
    "name": "ipython",
    "version": 3
   },
   "file_extension": ".py",
   "mimetype": "text/x-python",
   "name": "python",
   "nbconvert_exporter": "python",
   "pygments_lexer": "ipython3",
   "version": "3.9.13"
  },
  "orig_nbformat": 4,
  "vscode": {
   "interpreter": {
    "hash": "b98826369006c2dd1ccf8d106235eaa643bd89f632ee848b92ea26653baccf0c"
   }
  }
 },
 "nbformat": 4,
 "nbformat_minor": 2
}
